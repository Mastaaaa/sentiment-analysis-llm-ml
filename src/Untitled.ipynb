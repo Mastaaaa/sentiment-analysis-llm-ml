{
 "cells": [
  {
   "cell_type": "code",
   "execution_count": 1,
   "id": "7192b9d2-d6ca-474b-8a92-7010b57292c1",
   "metadata": {},
   "outputs": [
    {
     "name": "stderr",
     "output_type": "stream",
     "text": [
      "c:\\Users\\Masta\\Documents\\sentiment-analysis-llm-ml\\.venv\\Lib\\site-packages\\tqdm\\auto.py:21: TqdmWarning: IProgress not found. Please update jupyter and ipywidgets. See https://ipywidgets.readthedocs.io/en/stable/user_install.html\n",
      "  from .autonotebook import tqdm as notebook_tqdm\n"
     ]
    }
   ],
   "source": [
    "from datasets import load_dataset\n",
    "from sklearn.feature_extraction.text import TfidfVectorizer\n",
    "from sklearn.linear_model import LogisticRegression\n",
    "from sklearn.metrics import accuracy_score, classification_report, confusion_matrix, ConfusionMatrixDisplay\n",
    "import matplotlib.pyplot as plt\n",
    "import pandas as pd\n",
    "import re"
   ]
  },
  {
   "cell_type": "code",
   "execution_count": 2,
   "id": "d7c308c9",
   "metadata": {},
   "outputs": [],
   "source": [
    "def load_imdb_dataset():\n",
    "    dataset = load_dataset(\"imdb\")\n",
    "    test_df = pd.DataFrame(dataset['test'])\n",
    "    train_df = pd.DataFrame(dataset['train'])\n",
    "    return train_df, test_df\n"
   ]
  },
  {
   "cell_type": "code",
   "execution_count": 3,
   "id": "da512e0c",
   "metadata": {},
   "outputs": [],
   "source": [
    "def clean_text(text):\n",
    "    text = text.lower()\n",
    "    text = re.sub(r'[^a-z\\s]', '', text)\n",
    "    text = re.sub(r'\\s+', ' ', text).strip()\n",
    "    return text"
   ]
  },
  {
   "cell_type": "code",
   "execution_count": 5,
   "id": "9238334c",
   "metadata": {},
   "outputs": [],
   "source": [
    "def imdb_ml_analysis():\n",
    "    test_df, train_df = load_imdb_dataset()\n",
    "    train_df['cleaned_text'] = train_df['text'].apply(clean_text)\n",
    "    test_df['cleaned_text'] = test_df['text'].apply(clean_text)\n",
    "\n",
    "    # Vectorization\n",
    "    vectorizer = TfidfVectorizer(max_features=5000)\n",
    "    X_train = vectorizer.fit_transform(train_df['cleaned_text'])\n",
    "    X_test = vectorizer.transform(test_df['cleaned_text'])\n",
    "    Y_train = train_df['label']\n",
    "    Y_test = test_df['label']\n",
    "\n",
    "    # Model training\n",
    "    model = LogisticRegression(max_iter=1000)\n",
    "    model.fit(X_train, Y_train)\n",
    "    y_pred = model.predict(X_test)\n",
    "\n",
    "\n",
    "    cm = confusion_matrix(Y_test, y_pred)\n",
    "\n",
    "    # Plot prediction confusion matrix\n",
    "    disp = ConfusionMatrixDisplay(confusion_matrix=cm, display_labels=['Negative', 'Positive'])\n",
    "    disp.plot(cmap='Blues')\n",
    "    print(\"Accuracy:\", accuracy_score(Y_test, y_pred))\n",
    "    print(\"Classification Report:\\n\", classification_report(Y_test, y_pred))"
   ]
  },
  {
   "cell_type": "code",
   "execution_count": 6,
   "id": "a4f06da8",
   "metadata": {},
   "outputs": [
    {
     "name": "stdout",
     "output_type": "stream",
     "text": [
      "Accuracy: 0.8774\n",
      "Classification Report:\n",
      "               precision    recall  f1-score   support\n",
      "\n",
      "           0       0.88      0.87      0.88     12500\n",
      "           1       0.88      0.88      0.88     12500\n",
      "\n",
      "    accuracy                           0.88     25000\n",
      "   macro avg       0.88      0.88      0.88     25000\n",
      "weighted avg       0.88      0.88      0.88     25000\n",
      "\n"
     ]
    },
    {
     "data": {
      "image/png": "[encoded data removed]",
      "text/plain": [
       "<Figure size 640x480 with 2 Axes>"
      ]
     },
     "metadata": {},
     "output_type": "display_data"
    }
   ],
   "source": [
    "imdb_ml_analysis()"
   ]
  },
  {
   "cell_type": "code",
   "execution_count": null,
   "id": "12b926b2",
   "metadata": {},
   "outputs": [],
   "source": []
  }
 ],
 "metadata": {
  "kernelspec": {
   "display_name": ".venv",
   "language": "python",
   "name": "python3"
  },
  "language_info": {
   "codemirror_mode": {
    "name": "ipython",
    "version": 3
   },
   "file_extension": ".py",
   "mimetype": "text/x-python",
   "name": "python",
   "nbconvert_exporter": "python",
   "pygments_lexer": "ipython3",
   "version": "3.13.7"
  }
 },
 "nbformat": 4,
 "nbformat_minor": 5
}
